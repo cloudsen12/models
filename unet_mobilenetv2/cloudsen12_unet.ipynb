{
  "cells": [
    {
      "cell_type": "markdown",
      "metadata": {
        "id": "DQBLxl6rDY6X"
      },
      "source": [
        "<a href=\"https://colab.research.google.com/drive/1r4RzLylgG4pcARVYwHjHkJ9lWvWlZk8z\">\n",
        "<img src=\"https://colab.research.google.com/assets/colab-badge.svg\" alt=\"Open In Colab\"/>\n",
        "</a>\n",
        "\n",
        "## **Cloud detection - U-Net + mobilenetV2**\n",
        "\n",
        "**paper:** CloudSEN12 - a global dataset for semantic understanding of cloud and cloud shadow in Sentinel-2s\n",
        "\n",
        "**author:** Cesar Aybar\n",
        "\n",
        "**NOTE: You need to upload cloudSEN12 to GCS to run this notebook successfully.**\n",
        "\n",
        "---\n",
        "\n"
      ]
    },
    {
      "cell_type": "markdown",
      "metadata": {
        "id": "zcfL08pHDsz4"
      },
      "source": [
        "### **1. Install packages**"
      ]
    },
    {
      "cell_type": "code",
      "execution_count": 9,
      "metadata": {
        "colab": {
          "base_uri": "https://localhost:8080/"
        },
        "id": "099jLV37DGCc",
        "outputId": "fc9a8260-db13-4b03-9a1b-d873c71f5cbb"
      },
      "outputs": [
        {
          "name": "stdout",
          "output_type": "stream",
          "text": [
            "\u001b[?25l\u001b[?7l\u001b[0m\u001b[31m\u001b[1m            .-/+oossssoo+/-. \n",
            "        `:+ssssssssssssssssss+:` \n",
            "      -+ssssssssssssssssssyyssss+- \n",
            "    .ossssssssssssssssss\u001b[37m\u001b[0m\u001b[1mdMMMNy\u001b[0m\u001b[31m\u001b[1msssso. \n",
            "   /sssssssssss\u001b[37m\u001b[0m\u001b[1mhdmmNNmmyNMMMMh\u001b[0m\u001b[31m\u001b[1mssssss/ \n",
            "  +sssssssss\u001b[37m\u001b[0m\u001b[1mhm\u001b[0m\u001b[31m\u001b[1myd\u001b[37m\u001b[0m\u001b[1mMMMMMMMNddddy\u001b[0m\u001b[31m\u001b[1mssssssss+ \n",
            " /ssssssss\u001b[37m\u001b[0m\u001b[1mhNMMM\u001b[0m\u001b[31m\u001b[1myh\u001b[37m\u001b[0m\u001b[1mhyyyyhmNMMMNh\u001b[0m\u001b[31m\u001b[1mssssssss/ \n",
            ".ssssssss\u001b[37m\u001b[0m\u001b[1mdMMMNh\u001b[0m\u001b[31m\u001b[1mssssssssss\u001b[37m\u001b[0m\u001b[1mhNMMMd\u001b[0m\u001b[31m\u001b[1mssssssss. \n",
            "+ssss\u001b[37m\u001b[0m\u001b[1mhhhyNMMNy\u001b[0m\u001b[31m\u001b[1mssssssssssss\u001b[37m\u001b[0m\u001b[1myNMMMy\u001b[0m\u001b[31m\u001b[1msssssss+ \n",
            "oss\u001b[37m\u001b[0m\u001b[1myNMMMNyMMh\u001b[0m\u001b[31m\u001b[1mssssssssssssss\u001b[37m\u001b[0m\u001b[1mhmmmh\u001b[0m\u001b[31m\u001b[1mssssssso \n",
            "oss\u001b[37m\u001b[0m\u001b[1myNMMMNyMMh\u001b[0m\u001b[31m\u001b[1msssssssssssssshmmmh\u001b[0m\u001b[31m\u001b[1mssssssso \n",
            "+ssss\u001b[37m\u001b[0m\u001b[1mhhhyNMMNy\u001b[0m\u001b[31m\u001b[1mssssssssssss\u001b[37m\u001b[0m\u001b[1myNMMMy\u001b[0m\u001b[31m\u001b[1msssssss+ \n",
            ".ssssssss\u001b[37m\u001b[0m\u001b[1mdMMMNh\u001b[0m\u001b[31m\u001b[1mssssssssss\u001b[37m\u001b[0m\u001b[1mhNMMMd\u001b[0m\u001b[31m\u001b[1mssssssss. \n",
            " /ssssssss\u001b[37m\u001b[0m\u001b[1mhNMMM\u001b[0m\u001b[31m\u001b[1myh\u001b[37m\u001b[0m\u001b[1mhyyyyhdNMMMNh\u001b[0m\u001b[31m\u001b[1mssssssss/ \n",
            "  +sssssssss\u001b[37m\u001b[0m\u001b[1mdm\u001b[0m\u001b[31m\u001b[1myd\u001b[37m\u001b[0m\u001b[1mMMMMMMMMddddy\u001b[0m\u001b[31m\u001b[1mssssssss+ \n",
            "   /sssssssssss\u001b[37m\u001b[0m\u001b[1mhdmNNNNmyNMMMMh\u001b[0m\u001b[31m\u001b[1mssssss/ \n",
            "    .ossssssssssssssssss\u001b[37m\u001b[0m\u001b[1mdMMMNy\u001b[0m\u001b[31m\u001b[1msssso. \n",
            "      -+sssssssssssssssss\u001b[37m\u001b[0m\u001b[1myyy\u001b[0m\u001b[31m\u001b[1mssss+- \n",
            "        `:+ssssssssssssssssss+:` \n",
            "            .-/+oossssoo+/-. \n",
            "\u001b[20A\u001b[9999999D\u001b[43C\u001b[0m\u001b[1m\u001b[0m\u001b[31m\u001b[1mroot@\u001b[0m\u001b[31m\u001b[1mefcced41d43e\u001b[0m \n",
            "\u001b[43C\u001b[0m-----------------\u001b[0m \n",
            "\u001b[43C\u001b[0m\u001b[31m\u001b[1mOS\u001b[0m\u001b[0m:\u001b[0m Ubuntu 18.04.5 LTS x86_64\u001b[0m \n",
            "\u001b[43C\u001b[0m\u001b[31m\u001b[1mHost\u001b[0m\u001b[0m:\u001b[0m Google Compute Engine\u001b[0m \n",
            "\u001b[43C\u001b[0m\u001b[31m\u001b[1mKernel\u001b[0m\u001b[0m:\u001b[0m 5.4.144+\u001b[0m \n",
            "\u001b[43C\u001b[0m\u001b[31m\u001b[1mUptime\u001b[0m\u001b[0m:\u001b[0m 7 mins\u001b[0m \n",
            "\u001b[43C\u001b[0m\u001b[31m\u001b[1mPackages\u001b[0m\u001b[0m:\u001b[0m 1396\u001b[0m \n",
            "\u001b[43C\u001b[0m\u001b[31m\u001b[1mShell\u001b[0m\u001b[0m:\u001b[0m bash 4.4.20\u001b[0m \n",
            "\u001b[43C\u001b[0m\u001b[31m\u001b[1mTerminal\u001b[0m\u001b[0m:\u001b[0m jupyter-noteboo\u001b[0m \n",
            "\u001b[43C\u001b[0m\u001b[31m\u001b[1mCPU\u001b[0m\u001b[0m:\u001b[0m Intel Xeon (16) @ 2.299GHz\u001b[0m \n",
            "\u001b[43C\u001b[0m\u001b[31m\u001b[1mMemory\u001b[0m\u001b[0m:\u001b[0m 770MiB / 60292MiB\u001b[0m \n",
            "\n",
            "\u001b[43C\u001b[0m\u001b[30m\u001b[40m   \u001b[0m\u001b[31m\u001b[41m   \u001b[0m\u001b[32m\u001b[42m   \u001b[0m\u001b[33m\u001b[43m   \u001b[0m\u001b[34m\u001b[44m   \u001b[0m\u001b[35m\u001b[45m   \u001b[0m\u001b[36m\u001b[46m   \u001b[0m\u001b[37m\u001b[47m   \u001b[0m\n",
            "\n",
            "\n",
            "\u001b[6B\u001b[?25h\u001b[?7h"
          ]
        }
      ],
      "source": [
        "# !apt-get install neofetch\n",
        "!neofetch"
      ]
    },
    {
      "cell_type": "code",
      "execution_count": null,
      "metadata": {
        "id": "U4f9blCmEMHY"
      },
      "outputs": [],
      "source": [
        "!pip install albumentations --upgrade\n",
        "!pip install --upgrade opencv-python\n",
        "!pip install --upgrade opencv-contrib-python\n",
        "!pip install --upgrade opencv-python-headless\n",
        "!pip install rasterio --upgrade\n",
        "!pip install segmentation_models_pytorch --upgrade\n",
        "!pip install pytorch-lightning\n",
        "!pip install wandb\n",
        "!pip install torchmetrics --upgrade"
      ]
    },
    {
      "cell_type": "markdown",
      "metadata": {
        "id": "wdPnOnDDFDt1"
      },
      "source": [
        "### **2. From GCS to the local computer**\n",
        "\n",
        "![image](https://user-images.githubusercontent.com/16768318/179366014-077d1204-a67f-4efe-80d5-ef66f1596b0e.png)"
      ]
    },
    {
      "cell_type": "code",
      "execution_count": 43,
      "metadata": {
        "colab": {
          "base_uri": "https://localhost:8080/"
        },
        "id": "Xa-derDrFp9Y",
        "outputId": "b92759da-214f-4663-ae25-493f49b4f6b4"
      },
      "outputs": [
        {
          "name": "stdout",
          "output_type": "stream",
          "text": [
            "Copying gs://dtacs/cloudSEN12/valips.csv...\n",
            "/ [0/1 files][    0.0 B/ 39.5 KiB]   0% Done                                    \r/ [1/1 files][ 39.5 KiB/ 39.5 KiB] 100% Done                                    \r\n",
            "Operation completed over 1 objects/39.5 KiB.                                     \n"
          ]
        }
      ],
      "source": [
        "!gsutil -m cp -r gs://dtacs/cloudSEN12 /content/"
      ]
    },
    {
      "cell_type": "markdown",
      "metadata": {
        "id": "3WB4v3MlFjMO"
      },
      "source": [
        "### **3. Load cloudSEN12**"
      ]
    },
    {
      "cell_type": "code",
      "execution_count": 1,
      "metadata": {
        "id": "nYMwWcDbE8S6"
      },
      "outputs": [],
      "source": [
        "import pandas as pd\n",
        "\n",
        "# load the dataset\n",
        "dataset_metadata = pd.read_csv(\"/content/cloudSEN12/cloudsen12_metadata.csv\")\n",
        "dataset_metadata_high = dataset_metadata[dataset_metadata[\"label_type\"] == \"high\"]\n",
        "\n",
        "# train/val/test split\n",
        "train_val_db = dataset_metadata_high[dataset_metadata_high[\"test\"] == 0]\n",
        "train_val_db.reset_index(drop=True, inplace=True)\n",
        "\n",
        "# train dataset\n",
        "train_db = train_val_db.sample(frac=0.9, random_state=42)\n",
        "train_db.reset_index(drop=True, inplace=True)\n",
        "\n",
        "\n",
        "# val dataset\n",
        "val_db = train_val_db.drop(train_db.index)\n",
        "val_db.reset_index(drop=True, inplace=True)\n",
        "\n",
        "# test dataset\n",
        "test_db = dataset_metadata_high[dataset_metadata_high[\"test\"] == 1]\n",
        "test_db.reset_index(drop=True, inplace=True)\n",
        "\n",
        "DATASET = [train_db, val_db, test_db]"
      ]
    },
    {
      "cell_type": "markdown",
      "metadata": {
        "id": "1by0xftKg7BV"
      },
      "source": [
        "### **4. Define augmentation**"
      ]
    },
    {
      "cell_type": "code",
      "execution_count": 2,
      "metadata": {
        "id": "zSNLLsjmFWqf"
      },
      "outputs": [],
      "source": [
        "import albumentations as A\n",
        "import albumentations.pytorch\n",
        "\n",
        "# Non destructive transformations - Dehidral group D4\n",
        "nodestructive_pipe = A.OneOf([\n",
        "    A.HorizontalFlip(p=0.5),\n",
        "    A.VerticalFlip(p=0.5),\n",
        "    A.RandomRotate90(p=0.5),\n",
        "    A.Transpose(p=0.5)\n",
        "], p=1)\n",
        "\n",
        "weak_augmentation = A.Compose([\n",
        "    A.PadIfNeeded(min_height=512, min_width=512, p=1, always_apply=True),\n",
        "    nodestructive_pipe,\n",
        "    albumentations.pytorch.transforms.ToTensorV2()\n",
        "])\n",
        "\n",
        "no_augmentation = A.Compose([\n",
        "    A.PadIfNeeded(min_height=512, min_width=512, p=1, always_apply=True),    \n",
        "    albumentations.pytorch.transforms.ToTensorV2()\n",
        "])\n",
        "\n",
        "AUGMENTATION=weak_augmentation"
      ]
    },
    {
      "cell_type": "markdown",
      "metadata": {
        "id": "gVSxXk5XiDdc"
      },
      "source": [
        "### **5. Define the data DataLoader**"
      ]
    },
    {
      "cell_type": "code",
      "execution_count": 3,
      "metadata": {
        "id": "dkD-8j3riBHn"
      },
      "outputs": [],
      "source": [
        "import torch\n",
        "import numpy as np\n",
        "import rasterio as rio\n",
        "import warnings\n",
        "\n",
        "# Create a DataLoader object.\n",
        "class SEGDATALOADER(torch.utils.data.DataLoader):\n",
        "    def __init__(self, dataset, augmentation=False):\n",
        "        self.dataset = dataset\n",
        "        self.augmentation = augmentation\n",
        "    def __len__(self):\n",
        "        return len(self.dataset)\n",
        "\n",
        "    def __getitem__(self, index: int):\n",
        "        # Select the S2 and ROI id\n",
        "        roi_id = self.dataset.loc[index, \"roi_id\"]\n",
        "        s2_id = self.dataset.loc[index, \"s2_id_gee\"]\n",
        "\n",
        "        # Load the numpy file\n",
        "        s2l1c = f\"/content/cloudSEN12/high/%s/%s/S2L1C.tif\" % (roi_id, s2_id)\n",
        "        with rio.open(s2l1c) as src:\n",
        "            X = src.read()/10000 # B4, B3, B2\n",
        "            X = np.moveaxis(X, 0, -1)\n",
        "            #X = np.moveaxis(X, -1, 0)\n",
        "\n",
        "        # Load target image.\n",
        "        target = f\"/content/cloudSEN12/high/%s/%s/labels/manual_hq.tif\" % (roi_id, s2_id)\n",
        "        with rio.open(target) as src:\n",
        "            y = src.read(1)\n",
        "        \n",
        "        # Augmentation pipeline\n",
        "        if self.augmentation:\n",
        "            X, y = self.augmentation(image=X, mask=y).values()\n",
        "            #X = np.moveaxis(X, -1, 0)\n",
        "            \n",
        "        # Check semantic_segmentation_pytorch model input shape requirements.                                \n",
        "        if X.shape[0] > X.shape[2]:\n",
        "            warnings.warn(\n",
        "                \"segmentation_models.pytorch expects channels first (B, C, H, W)\"\n",
        "            )\n",
        "        return X, y, \"%s__%s\" % (roi_id, s2_id)"
      ]
    },
    {
      "cell_type": "code",
      "execution_count": 4,
      "metadata": {
        "colab": {
          "base_uri": "https://localhost:8080/",
          "height": 305
        },
        "id": "5ZaYU1plkSuf",
        "outputId": "ee9f7044-f488-4291-e186-dcb223cbf3ac"
      },
      "outputs": [
        {
          "data": {
            "image/png": "[encoded data removed]",
            "text/plain": [
              "<Figure size 720x720 with 2 Axes>"
            ]
          },
          "metadata": {
            "needs_background": "light"
          },
          "output_type": "display_data"
        }
      ],
      "source": [
        "# Simple check\n",
        "import matplotlib.pyplot as plt\n",
        "\n",
        "# check dataloader\n",
        "dataloader = SEGDATALOADER(dataset=DATASET[0], augmentation=weak_augmentation)\n",
        "X, y, name = dataloader[100]\n",
        "\n",
        "# create matplolib subfigure 2x1\n",
        "fix, ax = plt.subplots(1, 2, figsize=(10, 10))\n",
        "ax[0].imshow(X.moveaxis(0, 2)[:,:,[3,2,1]])\n",
        "ax[1].imshow(y)\n",
        "plt.show()"
      ]
    },
    {
      "cell_type": "markdown",
      "metadata": {
        "id": "AiGnnqftm7z2"
      },
      "source": [
        "### **6. Define a model**"
      ]
    },
    {
      "cell_type": "code",
      "execution_count": 5,
      "metadata": {
        "id": "yCvwpuxMm8Ku"
      },
      "outputs": [],
      "source": [
        "import segmentation_models_pytorch as smp \n",
        "SEGMODEL = smp.Unet(\n",
        "        encoder_name=\"mobilenet_v2\",\n",
        "        encoder_weights=None,\n",
        "        classes=4,\n",
        "        in_channels=13        \n",
        ")"
      ]
    },
    {
      "cell_type": "markdown",
      "metadata": {
        "id": "UQIobem9fsbm"
      },
      "source": [
        "### **7. Define a loss**"
      ]
    },
    {
      "cell_type": "code",
      "execution_count": 6,
      "metadata": {
        "id": "Rj8PqP2lfo9b"
      },
      "outputs": [],
      "source": [
        "class CrossEntropyLoss(torch.nn.Module):\n",
        "    def __init__(self):\n",
        "        super().__init__()\n",
        "\n",
        "    def forward(self, input, target):\n",
        "        # flatten label and prediction tensors\n",
        "        #input = input.view(-1)\n",
        "        target = target.type(torch.long)\n",
        "        BCE = torch.nn.functional.cross_entropy(input, target)\n",
        "        return BCE\n",
        "        \n",
        "CRITERION = CrossEntropyLoss()"
      ]
    },
    {
      "cell_type": "markdown",
      "metadata": {
        "id": "VK8hkUeufyKC"
      },
      "source": [
        "### **8. Define metrics**"
      ]
    },
    {
      "cell_type": "code",
      "execution_count": 7,
      "metadata": {
        "id": "iHn1fV8TgBw9"
      },
      "outputs": [],
      "source": [
        "import torch\n",
        "from torchmetrics import Metric\n",
        "from sklearn.metrics import fbeta_score, recall_score, precision_score\n",
        "\n",
        "class BF2score(Metric):\n",
        "\n",
        "    is_differentiable: bool = False\n",
        "    higher_is_better: bool = True\n",
        "    full_state_update: bool = False\n",
        "\n",
        "    def __init__(self, thershold: float = 0.90):\n",
        "        super().__init__()\n",
        "        self.add_state(\"container\", default=torch.tensor(0), dist_reduce_fx=\"sum\")        \n",
        "        self.add_state(\"total\", default=torch.tensor(0), dist_reduce_fx=\"sum\")\n",
        "        self.thershold = thershold\n",
        "\n",
        "    def update(self, preds: torch.Tensor, target: torch.Tensor):\n",
        "        assert preds.shape == target.shape\n",
        "        score_container = list()\n",
        "        for index in range(preds.shape[0]):\n",
        "            score_container.append(fbeta_score(target[index].flatten().detach().cpu(), preds[index].flatten().detach().cpu(), average='macro', beta=2, zero_division=1))\n",
        "        score_container = torch.Tensor(score_container)\n",
        "        gt_thershold = score_container.gt(self.thershold)        \n",
        "        self.container += torch.sum(gt_thershold)\n",
        "        self.total += preds.shape[0]\n",
        "\n",
        "    def compute(self):\n",
        "        return self.container/self.total*100\n",
        "\n",
        "class BPAscore(Metric):\n",
        "\n",
        "    is_differentiable: bool = False\n",
        "    higher_is_better: bool = True\n",
        "    full_state_update: bool = False\n",
        "\n",
        "    def __init__(self, thershold: float = 0.90):\n",
        "        super().__init__()\n",
        "        self.add_state(\"container\", default=torch.tensor(0), dist_reduce_fx=\"sum\")        \n",
        "        self.add_state(\"total\", default=torch.tensor(0), dist_reduce_fx=\"sum\")\n",
        "        self.thershold = thershold\n",
        "\n",
        "    def update(self, preds: torch.Tensor, target: torch.Tensor):\n",
        "        assert preds.shape == target.shape\n",
        "        score_container = list()\n",
        "        for index in range(preds.shape[0]):\n",
        "            score_container.append(recall_score(target[index].flatten().detach().cpu(), preds[index].flatten().detach().cpu(), average='macro', zero_division=1))\n",
        "        score_container = torch.Tensor(score_container)\n",
        "        gt_thershold = score_container.gt(self.thershold)        \n",
        "        self.container += torch.sum(gt_thershold)\n",
        "        self.total += preds.shape[0]\n",
        "\n",
        "    def compute(self):\n",
        "        return self.container/self.total*100\n",
        "\n",
        "\n",
        "class BUAscore(Metric):\n",
        "\n",
        "    is_differentiable: bool = False\n",
        "    higher_is_better: bool = True\n",
        "    full_state_update: bool = False\n",
        "\n",
        "    def __init__(self, thershold: float = 0.90):\n",
        "        super().__init__()\n",
        "        self.add_state(\"container\", default=torch.tensor(0), dist_reduce_fx=\"sum\")        \n",
        "        self.add_state(\"total\", default=torch.tensor(0), dist_reduce_fx=\"sum\")\n",
        "        self.thershold = thershold\n",
        "\n",
        "    def update(self, preds: torch.Tensor, target: torch.Tensor):\n",
        "        assert preds.shape == target.shape\n",
        "        score_container = list()\n",
        "        for index in range(preds.shape[0]):\n",
        "            score_container.append(precision_score(target[index].flatten().detach().cpu(), preds[index].flatten().detach().cpu(), average='macro', zero_division=1))\n",
        "        score_container = torch.Tensor(score_container)\n",
        "        gt_thershold = score_container.gt(self.thershold)        \n",
        "        self.container += torch.sum(gt_thershold)\n",
        "        self.total += preds.shape[0]\n",
        "\n",
        "    def compute(self):\n",
        "        return self.container/self.total*100\n",
        "\n",
        "METRICS = {\"f2_score\": BF2score(), \"pa_score\": BPAscore(), \"ua_score\": BUAscore()}"
      ]
    },
    {
      "cell_type": "markdown",
      "metadata": {
        "id": "1ggDrqJ3gI6i"
      },
      "source": [
        "### **9. Define the logger (OPTIONAL)**"
      ]
    },
    {
      "cell_type": "code",
      "execution_count": 153,
      "metadata": {
        "id": "PjcxLqajgEXm"
      },
      "outputs": [],
      "source": [
        "import os\n",
        "from pytorch_lightning.loggers import WandbLogger\n",
        "import wandb\n",
        "\n",
        "#wandb.init(settings=wandb.Settings(start_method='fork'))\n",
        "os.environ[\"WANDB_API_KEY\"] = \"put_here_wandb_key\"\n",
        "LOGGER = WandbLogger(project=\"cloudseg\")"
      ]
    },
    {
      "cell_type": "markdown",
      "metadata": {
        "id": "ELF8RTL0gQ-n"
      },
      "source": [
        "### **10. Create a Pytorch-lighning model**"
      ]
    },
    {
      "cell_type": "code",
      "execution_count": 8,
      "metadata": {
        "id": "zzjeodb1gOWX"
      },
      "outputs": [],
      "source": [
        "from typing import Optional\n",
        "import pytorch_lightning as pl\n",
        "import torch\n",
        "\n",
        "class litSegModel(pl.LightningModule):\n",
        "    \"\"\"\n",
        "    Lightning Class template to wrap segmentation models.\n",
        "    Args:\n",
        "      hparams (`DictConfig`) : A `DictConfig` that stores the configs for training .\n",
        "    \"\"\"\n",
        "\n",
        "    def __init__(self):\n",
        "        super().__init__()\n",
        "        #self.save_hyperparameters()  # Save the hyperparameters.\n",
        "        self.model = SEGMODEL\n",
        "        self.dataloader = SEGDATALOADER\n",
        "        self.criterion = CRITERION\n",
        "        self.metrics = METRICS\n",
        "        self.dataset = DATASET\n",
        "        self.augmentation = AUGMENTATION\n",
        "\n",
        "\n",
        "    def prepare_data(self) -> None:\n",
        "        \"\"\"\n",
        "        Change the file utils/prepare_data.py to this function. It must return\n",
        "        SegDataset and SegDataLoader.\n",
        "        \"\"\"\n",
        "        pass\n",
        "\n",
        "    def setup(self, stage: Optional[str] = None) -> None:\n",
        "        # train/val/test split\n",
        "        train, val, test = self.dataset        \n",
        "        if stage in (None, \"fit\"):\n",
        "            self.dbtrain = self.dataloader(train, AUGMENTATION)\n",
        "            self.dbval = self.dataloader(val, no_augmentation)\n",
        "\n",
        "        if stage in (None, \"test\"):\n",
        "            self.dbtest = self.dataloader(test,no_augmentation)\n",
        "\n",
        "    def train_dataloader(self):        \n",
        "        return torch.utils.data.DataLoader(\n",
        "            dataset=self.dbtrain,\n",
        "            batch_size=32,\n",
        "            num_workers=0,\n",
        "            pin_memory=False,\n",
        "            shuffle=True,\n",
        "        )\n",
        "\n",
        "    def val_dataloader(self):        \n",
        "        return torch.utils.data.DataLoader(\n",
        "            dataset=self.dbval,\n",
        "            batch_size=32,\n",
        "            num_workers=0,\n",
        "            pin_memory=False,\n",
        "            shuffle=False,\n",
        "        )\n",
        "\n",
        "    def test_dataloader(self):        \n",
        "        return torch.utils.data.DataLoader(\n",
        "            dataset=self.dbtest,\n",
        "            batch_size=32,\n",
        "            num_workers=0,\n",
        "            pin_memory=False,\n",
        "            shuffle=False,\n",
        "        )\n",
        "\n",
        "    def forward(self, x):\n",
        "        return self.model(x)\n",
        "\n",
        "    def training_step(self, batch, batch_idx):\n",
        "        X, y, _ = batch\n",
        "        y_hat = self.forward(X)\n",
        "        # save_breakpoint([y_hat, y])\n",
        "        loss = self.criterion(y_hat, y)\n",
        "        self.log(\"loss_train\", loss, prog_bar=True, logger=True, on_epoch=True)\n",
        "        return loss\n",
        "\n",
        "    def validation_step(self, batch, batch_idx):\n",
        "        X, y, _ = batch\n",
        "        y_hat = self.forward(X)\n",
        "        # save_breakpoint([y_hat, y])\n",
        "        loss = self.criterion(y_hat, y)\n",
        "        self.log(\"loss_val\", loss, prog_bar=True, logger=True, on_epoch=True)\n",
        "\n",
        "        # Update metrics\n",
        "        if self.metrics is not None:\n",
        "            y_hat_class = y_hat.argmax(dim=1)\n",
        "            y = y.type(torch.long)\n",
        "\n",
        "            # Iterate for each metric\n",
        "            for value in self.metrics.values():\n",
        "                value.update(y_hat_class, y)\n",
        "\n",
        "        return loss\n",
        "\n",
        "    def validation_epoch_end(self, val_metrics_results):\n",
        "        if self.metrics is not None:\n",
        "            for key, value in self.metrics.items():\n",
        "                metric_value = value.compute()\n",
        "                logging_name = key.lower() + \"_val\"\n",
        "                self.log(\n",
        "                    name=logging_name,\n",
        "                    value=metric_value,\n",
        "                    prog_bar=False,\n",
        "                    logger=True,\n",
        "                    on_epoch=True,\n",
        "                )\n",
        "                value.reset()\n",
        "\n",
        "    def test_step(self, batch, batch_idx):\n",
        "        if self.metrics is not None:\n",
        "            # Update metrics\n",
        "            X, y, _ = batch\n",
        "            y_hat = self.forward(X).squeeze()\n",
        "            \n",
        "            y_hat_class = y_hat.argmax(dim=1)\n",
        "            y = y.type(torch.long)\n",
        "\n",
        "            # Iterate for each metric\n",
        "            for value in self.metrics.values():\n",
        "                value.update(y_hat_class, y)\n",
        "\n",
        "    def test_epoch_end(self, outputs):\n",
        "        if self.metrics is not None:\n",
        "            for key, value in self.metrics.items():\n",
        "                metric_value = value.compute()\n",
        "                logging_name = key.lower() + \"_test\"\n",
        "                self.log(\n",
        "                    name=logging_name,\n",
        "                    value=metric_value,\n",
        "                    prog_bar=True,\n",
        "                    logger=True,\n",
        "                    on_epoch=True,\n",
        "                )\n",
        "                value.reset()\n",
        "\n",
        "    def configure_optimizers(self) -> torch.optim.Optimizer:\n",
        "        \"\"\"\n",
        "        Configures the optimier to use   for training\n",
        "        \n",
        "        Returns:\n",
        "            torch.optim.Optimier: the optimizer for updating the model's parameters\n",
        "        \"\"\"\n",
        "        self.opt = torch.optim.AdamW(self.parameters(), lr=0.001)\n",
        "        \n",
        "        # Set a scheduler\n",
        "        self.sch = {\n",
        "            \"scheduler\": torch.optim.lr_scheduler.ReduceLROnPlateau(\n",
        "                optimizer=self.opt,\n",
        "                mode=\"min\",\n",
        "                factor=0.1,\n",
        "                patience=4,\n",
        "                verbose=True\n",
        "            ),\n",
        "            \"frequency\": 1, # \n",
        "            \"monitor\": \"loss_val\" # quantity to be monitored\n",
        "        }\n",
        "        return [self.opt], [self.sch]"
      ]
    },
    {
      "cell_type": "markdown",
      "metadata": {
        "id": "Fuwy7LNnjeAm"
      },
      "source": [
        "### **11. Simple sanity check**"
      ]
    },
    {
      "cell_type": "code",
      "execution_count": 16,
      "metadata": {
        "colab": {
          "base_uri": "https://localhost:8080/"
        },
        "id": "VV8inizhgYUr",
        "outputId": "3b864aef-5692-4074-90d4-5851cff9d125"
      },
      "outputs": [
        {
          "name": "stdout",
          "output_type": "stream",
          "text": [
            "Checking DataLoader ... [OK]\n",
            "Checking Model ... [OK]\n",
            "Checking Criterion ... [OK]\n",
            "Checking Optimizer ... [OK]\n"
          ]
        }
      ],
      "source": [
        "# check the class\n",
        "self = litSegModel()\n",
        "print(\"Checking DataLoader ...\", end=\"\\r\")\n",
        "self.prepare_data()\n",
        "self.setup()\n",
        "X, y, _ = next(iter(self.test_dataloader()))\n",
        "print(\"Checking DataLoader ... [OK]\")\n",
        "\n",
        "# Checking Model\n",
        "print(\"Checking Model ...\", end=\"\\r\")\n",
        "self = self.cuda()\n",
        "y_hat = self(X.cuda())\n",
        "print(\"Checking Model ... [OK]\")\n",
        "\n",
        "# Checking Criterion\n",
        "print(\"Checking Criterion ...\", end=\"\\r\")    \n",
        "loss = CRITERION(y_hat, y.cuda())\n",
        "print(\"Checking Criterion ... [OK]\")\n",
        "\n",
        "\n",
        "# Checking Optimizer\n",
        "print(\"Checking Optimizer ...\", end=\"\\r\")\n",
        "loss.backward()\n",
        "print(\"Checking Optimizer ... [OK]\")"
      ]
    },
    {
      "cell_type": "markdown",
      "metadata": {
        "id": "QL2AOfidjigN"
      },
      "source": [
        "### **12. Setup a Trainer**"
      ]
    },
    {
      "cell_type": "code",
      "execution_count": 20,
      "metadata": {
        "colab": {
          "base_uri": "https://localhost:8080/",
          "height": 588,
          "referenced_widgets": [
            "b90c4bb8e7a64fc59d9a6ae50bd7103c",
            "f2e85e7690ca4c77a91685b37727f39b",
            "19427930d13b4301b953c1a563769514",
            "3ff914e9a456488b868c352f0fe75c89",
            "d2bdb62c511b4f8881d07bd902576b12",
            "4df7611fa98f4a08a681c303f0c49da8",
            "5f38fe26df7649f98144cc58ad8d1fe8",
            "b2cc146538fc4214b2c7834d0211c782",
            "34a337c84ddf4e8d9aad18ce1c21250f",
            "18d9cdc68b37439f87a8c75fba6120cb",
            "2b673c0c7d7a488783d272ad329415d2",
            "6d71121bf35f4f458ad8f3a21d0cc0e9",
            "026e5fc64e5d446da924f224a6b9e220",
            "ef86812edff84fc98e57845bed416a9d",
            "3d10e87576d24436a0157dfad02b6481",
            "9bcf647ed0df4c25b975c6b730622a31",
            "e586798536c946e0ad3f358e69cacc09",
            "481fd5ced436458999fcb1dffc8b07f2",
            "c7fa2e7fb0014deea4bbf2a941fc93ac",
            "b75606d5b950489093c6f082e953f641",
            "dc2ebc799b414836a66e7d964223ad29",
            "7dfe308f265c485da14dd718b28af489",
            "85e13f3db54b414282926f7b8c1434fe",
            "aaa88bb621f044f8ac1070b88267371a",
            "fa4e280f49a64eafb016b3199b631e0f",
            "ea354934688848578eb393ae33e50aca",
            "13f2728f8d8e484392aac93109bd6369",
            "7c8f802ad4654124b7c41e99a72f237f",
            "03b0661661e7431f86be627246796926",
            "9e3554e1553d4bb0b09ebb4f6f508cdb",
            "9e53a99ca68047e5942f7cdf3d7be7f8",
            "45f67dfcba554061823b52ad906458e3",
            "a0c7ad11880d4cdc80f440debd02d501"
          ]
        },
        "id": "Juc4ELFig7lB",
        "outputId": "d9504aa0-b1b9-47c3-ff98-3bb82cb8647f"
      },
      "outputs": [
        {
          "name": "stderr",
          "output_type": "stream",
          "text": [
            "Using 16bit native Automatic Mixed Precision (AMP)\n",
            "GPU available: True, used: True\n",
            "TPU available: False, using: 0 TPU cores\n",
            "IPU available: False, using: 0 IPUs\n",
            "HPU available: False, using: 0 HPUs\n",
            "/usr/local/lib/python3.7/dist-packages/pytorch_lightning/callbacks/model_checkpoint.py:611: UserWarning: Checkpoint directory /content/bestmodel exists and is not empty.\n",
            "  rank_zero_warn(f\"Checkpoint directory {dirpath} exists and is not empty.\")\n",
            "LOCAL_RANK: 0 - CUDA_VISIBLE_DEVICES: [0,1]\n",
            "\n",
            "  | Name      | Type             | Params\n",
            "-----------------------------------------------\n",
            "0 | model     | Unet             | 6.6 M \n",
            "1 | criterion | CrossEntropyLoss | 0     \n",
            "-----------------------------------------------\n",
            "6.6 M     Trainable params\n",
            "0         Non-trainable params\n",
            "6.6 M     Total params\n",
            "13.265    Total estimated model params size (MB)\n"
          ]
        },
        {
          "data": {
            "application/vnd.jupyter.widget-view+json": {
              "model_id": "b90c4bb8e7a64fc59d9a6ae50bd7103c",
              "version_major": 2,
              "version_minor": 0
            },
            "text/plain": [
              "Sanity Checking: 0it [00:00, ?it/s]"
            ]
          },
          "metadata": {},
          "output_type": "display_data"
        },
        {
          "name": "stderr",
          "output_type": "stream",
          "text": [
            "/usr/local/lib/python3.7/dist-packages/pytorch_lightning/trainer/connectors/data_connector.py:245: PossibleUserWarning: The dataloader, val_dataloader 0, does not have many workers which may be a bottleneck. Consider increasing the value of the `num_workers` argument` (try 16 which is the number of cpus on this machine) in the `DataLoader` init to improve performance.\n",
            "  category=PossibleUserWarning,\n",
            "/usr/local/lib/python3.7/dist-packages/pytorch_lightning/trainer/connectors/data_connector.py:245: PossibleUserWarning: The dataloader, train_dataloader, does not have many workers which may be a bottleneck. Consider increasing the value of the `num_workers` argument` (try 16 which is the number of cpus on this machine) in the `DataLoader` init to improve performance.\n",
            "  category=PossibleUserWarning,\n"
          ]
        },
        {
          "data": {
            "application/vnd.jupyter.widget-view+json": {
              "model_id": "6d71121bf35f4f458ad8f3a21d0cc0e9",
              "version_major": 2,
              "version_minor": 0
            },
            "text/plain": [
              "Training: 0it [00:00, ?it/s]"
            ]
          },
          "metadata": {},
          "output_type": "display_data"
        },
        {
          "name": "stderr",
          "output_type": "stream",
          "text": [
            "/usr/local/lib/python3.7/dist-packages/pytorch_lightning/trainer/trainer.py:726: UserWarning: Detected KeyboardInterrupt, attempting graceful shutdown...\n",
            "  rank_zero_warn(\"Detected KeyboardInterrupt, attempting graceful shutdown...\")\n",
            "LOCAL_RANK: 0 - CUDA_VISIBLE_DEVICES: [0,1]\n",
            "/usr/local/lib/python3.7/dist-packages/pytorch_lightning/trainer/connectors/data_connector.py:245: PossibleUserWarning: The dataloader, test_dataloader 0, does not have many workers which may be a bottleneck. Consider increasing the value of the `num_workers` argument` (try 16 which is the number of cpus on this machine) in the `DataLoader` init to improve performance.\n",
            "  category=PossibleUserWarning,\n"
          ]
        },
        {
          "data": {
            "application/vnd.jupyter.widget-view+json": {
              "model_id": "85e13f3db54b414282926f7b8c1434fe",
              "version_major": 2,
              "version_minor": 0
            },
            "text/plain": [
              "Testing: 0it [00:00, ?it/s]"
            ]
          },
          "metadata": {},
          "output_type": "display_data"
        },
        {
          "name": "stderr",
          "output_type": "stream",
          "text": [
            "/usr/local/lib/python3.7/dist-packages/pytorch_lightning/trainer/trainer.py:726: UserWarning: Detected KeyboardInterrupt, attempting graceful shutdown...\n",
            "  rank_zero_warn(\"Detected KeyboardInterrupt, attempting graceful shutdown...\")\n"
          ]
        }
      ],
      "source": [
        "from pytorch_lightning import Trainer\n",
        "import pytorch_lightning\n",
        "\n",
        "mymodel = litSegModel()\n",
        "callbacks = [\n",
        "    pytorch_lightning.callbacks.EarlyStopping(monitor=\"loss_val\", patience=10, mode=\"min\"),\n",
        "    pytorch_lightning.callbacks.ModelCheckpoint(monitor=\"loss_val\", dirpath=\"bestmodel/\", filename=\"ramiel\", save_top_k=1, mode=\"min\")\n",
        "]\n",
        "trainer = Trainer(gpus=2, max_epochs=50, precision=16, strategy='dp', callbacks=callbacks, logger=LOGGER)\n",
        "\n",
        "# start train\n",
        "trainer.fit(mymodel)\n",
        "\n",
        "# start test\n",
        "trainer.test(mymodel)"
      ]
    }
  ],
  "metadata": {
    "colab": {
      "collapsed_sections": [],
      "name": "cloudSEN12-UNET.ipynb",
      "provenance": []
    },
    "kernelspec": {
      "display_name": "Python 3",
      "name": "python3"
    },
    "language_info": {
      "name": "python"
    },
    "widgets": {
      "application/vnd.jupyter.widget-state+json": {
        "026e5fc64e5d446da924f224a6b9e220": {
          "model_module": "@jupyter-widgets/base",
          "model_module_version": "1.2.0",
          "model_name": "LayoutModel",
          "state": {
            "_model_module": "@jupyter-widgets/base",
            "_model_module_version": "1.2.0",
            "_model_name": "LayoutModel",
            "_view_count": null,
            "_view_module": "@jupyter-widgets/base",
            "_view_module_version": "1.2.0",
            "_view_name": "LayoutView",
            "align_content": null,
            "align_items": null,
            "align_self": null,
            "border": null,
            "bottom": null,
            "display": "inline-flex",
            "flex": null,
            "flex_flow": "row wrap",
            "grid_area": null,
            "grid_auto_columns": null,
            "grid_auto_flow": null,
            "grid_auto_rows": null,
            "grid_column": null,
            "grid_gap": null,
            "grid_row": null,
            "grid_template_areas": null,
            "grid_template_columns": null,
            "grid_template_rows": null,
            "height": null,
            "justify_content": null,
            "justify_items": null,
            "left": null,
            "margin": null,
            "max_height": null,
            "max_width": null,
            "min_height": null,
            "min_width": null,
            "object_fit": null,
            "object_position": null,
            "order": null,
            "overflow": null,
            "overflow_x": null,
            "overflow_y": null,
            "padding": null,
            "right": null,
            "top": null,
            "visibility": null,
            "width": "100%"
          }
        },
        "03b0661661e7431f86be627246796926": {
          "model_module": "@jupyter-widgets/base",
          "model_module_version": "1.2.0",
          "model_name": "LayoutModel",
          "state": {
            "_model_module": "@jupyter-widgets/base",
            "_model_module_version": "1.2.0",
            "_model_name": "LayoutModel",
            "_view_count": null,
            "_view_module": "@jupyter-widgets/base",
            "_view_module_version": "1.2.0",
            "_view_name": "LayoutView",
            "align_content": null,
            "align_items": null,
            "align_self": null,
            "border": null,
            "bottom": null,
            "display": null,
            "flex": null,
            "flex_flow": null,
            "grid_area": null,
            "grid_auto_columns": null,
            "grid_auto_flow": null,
            "grid_auto_rows": null,
            "grid_column": null,
            "grid_gap": null,
            "grid_row": null,
            "grid_template_areas": null,
            "grid_template_columns": null,
            "grid_template_rows": null,
            "height": null,
            "justify_content": null,
            "justify_items": null,
            "left": null,
            "margin": null,
            "max_height": null,
            "max_width": null,
            "min_height": null,
            "min_width": null,
            "object_fit": null,
            "object_position": null,
            "order": null,
            "overflow": null,
            "overflow_x": null,
            "overflow_y": null,
            "padding": null,
            "right": null,
            "top": null,
            "visibility": null,
            "width": null
          }
        },
        "13f2728f8d8e484392aac93109bd6369": {
          "model_module": "@jupyter-widgets/controls",
          "model_module_version": "1.5.0",
          "model_name": "HTMLModel",
          "state": {
            "_dom_classes": [],
            "_model_module": "@jupyter-widgets/controls",
            "_model_module_version": "1.5.0",
            "_model_name": "HTMLModel",
            "_view_count": null,
            "_view_module": "@jupyter-widgets/controls",
            "_view_module_version": "1.5.0",
            "_view_name": "HTMLView",
            "description": "",
            "description_tooltip": null,
            "layout": "IPY_MODEL_a0c7ad11880d4cdc80f440debd02d501",
            "placeholder": "​",
            "style": "IPY_MODEL_45f67dfcba554061823b52ad906458e3",
            "value": " 0/61 [00:00&lt;?, ?it/s]"
          }
        },
        "18d9cdc68b37439f87a8c75fba6120cb": {
          "model_module": "@jupyter-widgets/controls",
          "model_module_version": "1.5.0",
          "model_name": "DescriptionStyleModel",
          "state": {
            "_model_module": "@jupyter-widgets/controls",
            "_model_module_version": "1.5.0",
            "_model_name": "DescriptionStyleModel",
            "_view_count": null,
            "_view_module": "@jupyter-widgets/base",
            "_view_module_version": "1.2.0",
            "_view_name": "StyleView",
            "description_width": ""
          }
        },
        "19427930d13b4301b953c1a563769514": {
          "model_module": "@jupyter-widgets/controls",
          "model_module_version": "1.5.0",
          "model_name": "HTMLModel",
          "state": {
            "_dom_classes": [],
            "_model_module": "@jupyter-widgets/controls",
            "_model_module_version": "1.5.0",
            "_model_name": "HTMLModel",
            "_view_count": null,
            "_view_module": "@jupyter-widgets/controls",
            "_view_module_version": "1.5.0",
            "_view_name": "HTMLView",
            "description": "",
            "description_tooltip": null,
            "layout": "IPY_MODEL_5f38fe26df7649f98144cc58ad8d1fe8",
            "placeholder": "​",
            "style": "IPY_MODEL_4df7611fa98f4a08a681c303f0c49da8",
            "value": "Sanity Checking DataLoader 0: 100%"
          }
        },
        "2b673c0c7d7a488783d272ad329415d2": {
          "model_module": "@jupyter-widgets/base",
          "model_module_version": "1.2.0",
          "model_name": "LayoutModel",
          "state": {
            "_model_module": "@jupyter-widgets/base",
            "_model_module_version": "1.2.0",
            "_model_name": "LayoutModel",
            "_view_count": null,
            "_view_module": "@jupyter-widgets/base",
            "_view_module_version": "1.2.0",
            "_view_name": "LayoutView",
            "align_content": null,
            "align_items": null,
            "align_self": null,
            "border": null,
            "bottom": null,
            "display": null,
            "flex": null,
            "flex_flow": null,
            "grid_area": null,
            "grid_auto_columns": null,
            "grid_auto_flow": null,
            "grid_auto_rows": null,
            "grid_column": null,
            "grid_gap": null,
            "grid_row": null,
            "grid_template_areas": null,
            "grid_template_columns": null,
            "grid_template_rows": null,
            "height": null,
            "justify_content": null,
            "justify_items": null,
            "left": null,
            "margin": null,
            "max_height": null,
            "max_width": null,
            "min_height": null,
            "min_width": null,
            "object_fit": null,
            "object_position": null,
            "order": null,
            "overflow": null,
            "overflow_x": null,
            "overflow_y": null,
            "padding": null,
            "right": null,
            "top": null,
            "visibility": null,
            "width": null
          }
        },
        "34a337c84ddf4e8d9aad18ce1c21250f": {
          "model_module": "@jupyter-widgets/base",
          "model_module_version": "1.2.0",
          "model_name": "LayoutModel",
          "state": {
            "_model_module": "@jupyter-widgets/base",
            "_model_module_version": "1.2.0",
            "_model_name": "LayoutModel",
            "_view_count": null,
            "_view_module": "@jupyter-widgets/base",
            "_view_module_version": "1.2.0",
            "_view_name": "LayoutView",
            "align_content": null,
            "align_items": null,
            "align_self": null,
            "border": null,
            "bottom": null,
            "display": null,
            "flex": "2",
            "flex_flow": null,
            "grid_area": null,
            "grid_auto_columns": null,
            "grid_auto_flow": null,
            "grid_auto_rows": null,
            "grid_column": null,
            "grid_gap": null,
            "grid_row": null,
            "grid_template_areas": null,
            "grid_template_columns": null,
            "grid_template_rows": null,
            "height": null,
            "justify_content": null,
            "justify_items": null,
            "left": null,
            "margin": null,
            "max_height": null,
            "max_width": null,
            "min_height": null,
            "min_width": null,
            "object_fit": null,
            "object_position": null,
            "order": null,
            "overflow": null,
            "overflow_x": null,
            "overflow_y": null,
            "padding": null,
            "right": null,
            "top": null,
            "visibility": null,
            "width": null
          }
        },
        "3d10e87576d24436a0157dfad02b6481": {
          "model_module": "@jupyter-widgets/controls",
          "model_module_version": "1.5.0",
          "model_name": "FloatProgressModel",
          "state": {
            "_dom_classes": [],
            "_model_module": "@jupyter-widgets/controls",
            "_model_module_version": "1.5.0",
            "_model_name": "FloatProgressModel",
            "_view_count": null,
            "_view_module": "@jupyter-widgets/controls",
            "_view_module_version": "1.5.0",
            "_view_name": "ProgressView",
            "bar_style": "",
            "description": "",
            "description_tooltip": null,
            "layout": "IPY_MODEL_b75606d5b950489093c6f082e953f641",
            "max": 565,
            "min": 0,
            "orientation": "horizontal",
            "style": "IPY_MODEL_c7fa2e7fb0014deea4bbf2a941fc93ac",
            "value": 20
          }
        },
        "3ff914e9a456488b868c352f0fe75c89": {
          "model_module": "@jupyter-widgets/controls",
          "model_module_version": "1.5.0",
          "model_name": "FloatProgressModel",
          "state": {
            "_dom_classes": [],
            "_model_module": "@jupyter-widgets/controls",
            "_model_module_version": "1.5.0",
            "_model_name": "FloatProgressModel",
            "_view_count": null,
            "_view_module": "@jupyter-widgets/controls",
            "_view_module_version": "1.5.0",
            "_view_name": "ProgressView",
            "bar_style": "",
            "description": "",
            "description_tooltip": null,
            "layout": "IPY_MODEL_34a337c84ddf4e8d9aad18ce1c21250f",
            "max": 2,
            "min": 0,
            "orientation": "horizontal",
            "style": "IPY_MODEL_b2cc146538fc4214b2c7834d0211c782",
            "value": 2
          }
        },
        "45f67dfcba554061823b52ad906458e3": {
          "model_module": "@jupyter-widgets/controls",
          "model_module_version": "1.5.0",
          "model_name": "DescriptionStyleModel",
          "state": {
            "_model_module": "@jupyter-widgets/controls",
            "_model_module_version": "1.5.0",
            "_model_name": "DescriptionStyleModel",
            "_view_count": null,
            "_view_module": "@jupyter-widgets/base",
            "_view_module_version": "1.2.0",
            "_view_name": "StyleView",
            "description_width": ""
          }
        },
        "481fd5ced436458999fcb1dffc8b07f2": {
          "model_module": "@jupyter-widgets/base",
          "model_module_version": "1.2.0",
          "model_name": "LayoutModel",
          "state": {
            "_model_module": "@jupyter-widgets/base",
            "_model_module_version": "1.2.0",
            "_model_name": "LayoutModel",
            "_view_count": null,
            "_view_module": "@jupyter-widgets/base",
            "_view_module_version": "1.2.0",
            "_view_name": "LayoutView",
            "align_content": null,
            "align_items": null,
            "align_self": null,
            "border": null,
            "bottom": null,
            "display": null,
            "flex": null,
            "flex_flow": null,
            "grid_area": null,
            "grid_auto_columns": null,
            "grid_auto_flow": null,
            "grid_auto_rows": null,
            "grid_column": null,
            "grid_gap": null,
            "grid_row": null,
            "grid_template_areas": null,
            "grid_template_columns": null,
            "grid_template_rows": null,
            "height": null,
            "justify_content": null,
            "justify_items": null,
            "left": null,
            "margin": null,
            "max_height": null,
            "max_width": null,
            "min_height": null,
            "min_width": null,
            "object_fit": null,
            "object_position": null,
            "order": null,
            "overflow": null,
            "overflow_x": null,
            "overflow_y": null,
            "padding": null,
            "right": null,
            "top": null,
            "visibility": null,
            "width": null
          }
        },
        "4df7611fa98f4a08a681c303f0c49da8": {
          "model_module": "@jupyter-widgets/controls",
          "model_module_version": "1.5.0",
          "model_name": "DescriptionStyleModel",
          "state": {
            "_model_module": "@jupyter-widgets/controls",
            "_model_module_version": "1.5.0",
            "_model_name": "DescriptionStyleModel",
            "_view_count": null,
            "_view_module": "@jupyter-widgets/base",
            "_view_module_version": "1.2.0",
            "_view_name": "StyleView",
            "description_width": ""
          }
        },
        "5f38fe26df7649f98144cc58ad8d1fe8": {
          "model_module": "@jupyter-widgets/base",
          "model_module_version": "1.2.0",
          "model_name": "LayoutModel",
          "state": {
            "_model_module": "@jupyter-widgets/base",
            "_model_module_version": "1.2.0",
            "_model_name": "LayoutModel",
            "_view_count": null,
            "_view_module": "@jupyter-widgets/base",
            "_view_module_version": "1.2.0",
            "_view_name": "LayoutView",
            "align_content": null,
            "align_items": null,
            "align_self": null,
            "border": null,
            "bottom": null,
            "display": null,
            "flex": null,
            "flex_flow": null,
            "grid_area": null,
            "grid_auto_columns": null,
            "grid_auto_flow": null,
            "grid_auto_rows": null,
            "grid_column": null,
            "grid_gap": null,
            "grid_row": null,
            "grid_template_areas": null,
            "grid_template_columns": null,
            "grid_template_rows": null,
            "height": null,
            "justify_content": null,
            "justify_items": null,
            "left": null,
            "margin": null,
            "max_height": null,
            "max_width": null,
            "min_height": null,
            "min_width": null,
            "object_fit": null,
            "object_position": null,
            "order": null,
            "overflow": null,
            "overflow_x": null,
            "overflow_y": null,
            "padding": null,
            "right": null,
            "top": null,
            "visibility": null,
            "width": null
          }
        },
        "6d71121bf35f4f458ad8f3a21d0cc0e9": {
          "model_module": "@jupyter-widgets/controls",
          "model_module_version": "1.5.0",
          "model_name": "HBoxModel",
          "state": {
            "_dom_classes": [],
            "_model_module": "@jupyter-widgets/controls",
            "_model_module_version": "1.5.0",
            "_model_name": "HBoxModel",
            "_view_count": null,
            "_view_module": "@jupyter-widgets/controls",
            "_view_module_version": "1.5.0",
            "_view_name": "HBoxView",
            "box_style": "",
            "children": [
              "IPY_MODEL_ef86812edff84fc98e57845bed416a9d",
              "IPY_MODEL_3d10e87576d24436a0157dfad02b6481",
              "IPY_MODEL_9bcf647ed0df4c25b975c6b730622a31"
            ],
            "layout": "IPY_MODEL_026e5fc64e5d446da924f224a6b9e220"
          }
        },
        "7c8f802ad4654124b7c41e99a72f237f": {
          "model_module": "@jupyter-widgets/controls",
          "model_module_version": "1.5.0",
          "model_name": "DescriptionStyleModel",
          "state": {
            "_model_module": "@jupyter-widgets/controls",
            "_model_module_version": "1.5.0",
            "_model_name": "DescriptionStyleModel",
            "_view_count": null,
            "_view_module": "@jupyter-widgets/base",
            "_view_module_version": "1.2.0",
            "_view_name": "StyleView",
            "description_width": ""
          }
        },
        "7dfe308f265c485da14dd718b28af489": {
          "model_module": "@jupyter-widgets/base",
          "model_module_version": "1.2.0",
          "model_name": "LayoutModel",
          "state": {
            "_model_module": "@jupyter-widgets/base",
            "_model_module_version": "1.2.0",
            "_model_name": "LayoutModel",
            "_view_count": null,
            "_view_module": "@jupyter-widgets/base",
            "_view_module_version": "1.2.0",
            "_view_name": "LayoutView",
            "align_content": null,
            "align_items": null,
            "align_self": null,
            "border": null,
            "bottom": null,
            "display": null,
            "flex": null,
            "flex_flow": null,
            "grid_area": null,
            "grid_auto_columns": null,
            "grid_auto_flow": null,
            "grid_auto_rows": null,
            "grid_column": null,
            "grid_gap": null,
            "grid_row": null,
            "grid_template_areas": null,
            "grid_template_columns": null,
            "grid_template_rows": null,
            "height": null,
            "justify_content": null,
            "justify_items": null,
            "left": null,
            "margin": null,
            "max_height": null,
            "max_width": null,
            "min_height": null,
            "min_width": null,
            "object_fit": null,
            "object_position": null,
            "order": null,
            "overflow": null,
            "overflow_x": null,
            "overflow_y": null,
            "padding": null,
            "right": null,
            "top": null,
            "visibility": null,
            "width": null
          }
        },
        "85e13f3db54b414282926f7b8c1434fe": {
          "model_module": "@jupyter-widgets/controls",
          "model_module_version": "1.5.0",
          "model_name": "HBoxModel",
          "state": {
            "_dom_classes": [],
            "_model_module": "@jupyter-widgets/controls",
            "_model_module_version": "1.5.0",
            "_model_name": "HBoxModel",
            "_view_count": null,
            "_view_module": "@jupyter-widgets/controls",
            "_view_module_version": "1.5.0",
            "_view_name": "HBoxView",
            "box_style": "",
            "children": [
              "IPY_MODEL_fa4e280f49a64eafb016b3199b631e0f",
              "IPY_MODEL_ea354934688848578eb393ae33e50aca",
              "IPY_MODEL_13f2728f8d8e484392aac93109bd6369"
            ],
            "layout": "IPY_MODEL_aaa88bb621f044f8ac1070b88267371a"
          }
        },
        "9bcf647ed0df4c25b975c6b730622a31": {
          "model_module": "@jupyter-widgets/controls",
          "model_module_version": "1.5.0",
          "model_name": "HTMLModel",
          "state": {
            "_dom_classes": [],
            "_model_module": "@jupyter-widgets/controls",
            "_model_module_version": "1.5.0",
            "_model_name": "HTMLModel",
            "_view_count": null,
            "_view_module": "@jupyter-widgets/controls",
            "_view_module_version": "1.5.0",
            "_view_name": "HTMLView",
            "description": "",
            "description_tooltip": null,
            "layout": "IPY_MODEL_7dfe308f265c485da14dd718b28af489",
            "placeholder": "​",
            "style": "IPY_MODEL_dc2ebc799b414836a66e7d964223ad29",
            "value": " 20/565 [01:16&lt;34:54,  3.84s/it, loss=0.942, v_num=3, loss_train_step=0.890]"
          }
        },
        "9e3554e1553d4bb0b09ebb4f6f508cdb": {
          "model_module": "@jupyter-widgets/controls",
          "model_module_version": "1.5.0",
          "model_name": "ProgressStyleModel",
          "state": {
            "_model_module": "@jupyter-widgets/controls",
            "_model_module_version": "1.5.0",
            "_model_name": "ProgressStyleModel",
            "_view_count": null,
            "_view_module": "@jupyter-widgets/base",
            "_view_module_version": "1.2.0",
            "_view_name": "StyleView",
            "bar_color": null,
            "description_width": ""
          }
        },
        "9e53a99ca68047e5942f7cdf3d7be7f8": {
          "model_module": "@jupyter-widgets/base",
          "model_module_version": "1.2.0",
          "model_name": "LayoutModel",
          "state": {
            "_model_module": "@jupyter-widgets/base",
            "_model_module_version": "1.2.0",
            "_model_name": "LayoutModel",
            "_view_count": null,
            "_view_module": "@jupyter-widgets/base",
            "_view_module_version": "1.2.0",
            "_view_name": "LayoutView",
            "align_content": null,
            "align_items": null,
            "align_self": null,
            "border": null,
            "bottom": null,
            "display": null,
            "flex": "2",
            "flex_flow": null,
            "grid_area": null,
            "grid_auto_columns": null,
            "grid_auto_flow": null,
            "grid_auto_rows": null,
            "grid_column": null,
            "grid_gap": null,
            "grid_row": null,
            "grid_template_areas": null,
            "grid_template_columns": null,
            "grid_template_rows": null,
            "height": null,
            "justify_content": null,
            "justify_items": null,
            "left": null,
            "margin": null,
            "max_height": null,
            "max_width": null,
            "min_height": null,
            "min_width": null,
            "object_fit": null,
            "object_position": null,
            "order": null,
            "overflow": null,
            "overflow_x": null,
            "overflow_y": null,
            "padding": null,
            "right": null,
            "top": null,
            "visibility": null,
            "width": null
          }
        },
        "a0c7ad11880d4cdc80f440debd02d501": {
          "model_module": "@jupyter-widgets/base",
          "model_module_version": "1.2.0",
          "model_name": "LayoutModel",
          "state": {
            "_model_module": "@jupyter-widgets/base",
            "_model_module_version": "1.2.0",
            "_model_name": "LayoutModel",
            "_view_count": null,
            "_view_module": "@jupyter-widgets/base",
            "_view_module_version": "1.2.0",
            "_view_name": "LayoutView",
            "align_content": null,
            "align_items": null,
            "align_self": null,
            "border": null,
            "bottom": null,
            "display": null,
            "flex": null,
            "flex_flow": null,
            "grid_area": null,
            "grid_auto_columns": null,
            "grid_auto_flow": null,
            "grid_auto_rows": null,
            "grid_column": null,
            "grid_gap": null,
            "grid_row": null,
            "grid_template_areas": null,
            "grid_template_columns": null,
            "grid_template_rows": null,
            "height": null,
            "justify_content": null,
            "justify_items": null,
            "left": null,
            "margin": null,
            "max_height": null,
            "max_width": null,
            "min_height": null,
            "min_width": null,
            "object_fit": null,
            "object_position": null,
            "order": null,
            "overflow": null,
            "overflow_x": null,
            "overflow_y": null,
            "padding": null,
            "right": null,
            "top": null,
            "visibility": null,
            "width": null
          }
        },
        "aaa88bb621f044f8ac1070b88267371a": {
          "model_module": "@jupyter-widgets/base",
          "model_module_version": "1.2.0",
          "model_name": "LayoutModel",
          "state": {
            "_model_module": "@jupyter-widgets/base",
            "_model_module_version": "1.2.0",
            "_model_name": "LayoutModel",
            "_view_count": null,
            "_view_module": "@jupyter-widgets/base",
            "_view_module_version": "1.2.0",
            "_view_name": "LayoutView",
            "align_content": null,
            "align_items": null,
            "align_self": null,
            "border": null,
            "bottom": null,
            "display": "inline-flex",
            "flex": null,
            "flex_flow": "row wrap",
            "grid_area": null,
            "grid_auto_columns": null,
            "grid_auto_flow": null,
            "grid_auto_rows": null,
            "grid_column": null,
            "grid_gap": null,
            "grid_row": null,
            "grid_template_areas": null,
            "grid_template_columns": null,
            "grid_template_rows": null,
            "height": null,
            "justify_content": null,
            "justify_items": null,
            "left": null,
            "margin": null,
            "max_height": null,
            "max_width": null,
            "min_height": null,
            "min_width": null,
            "object_fit": null,
            "object_position": null,
            "order": null,
            "overflow": null,
            "overflow_x": null,
            "overflow_y": null,
            "padding": null,
            "right": null,
            "top": null,
            "visibility": null,
            "width": "100%"
          }
        },
        "b2cc146538fc4214b2c7834d0211c782": {
          "model_module": "@jupyter-widgets/controls",
          "model_module_version": "1.5.0",
          "model_name": "ProgressStyleModel",
          "state": {
            "_model_module": "@jupyter-widgets/controls",
            "_model_module_version": "1.5.0",
            "_model_name": "ProgressStyleModel",
            "_view_count": null,
            "_view_module": "@jupyter-widgets/base",
            "_view_module_version": "1.2.0",
            "_view_name": "StyleView",
            "bar_color": null,
            "description_width": ""
          }
        },
        "b75606d5b950489093c6f082e953f641": {
          "model_module": "@jupyter-widgets/base",
          "model_module_version": "1.2.0",
          "model_name": "LayoutModel",
          "state": {
            "_model_module": "@jupyter-widgets/base",
            "_model_module_version": "1.2.0",
            "_model_name": "LayoutModel",
            "_view_count": null,
            "_view_module": "@jupyter-widgets/base",
            "_view_module_version": "1.2.0",
            "_view_name": "LayoutView",
            "align_content": null,
            "align_items": null,
            "align_self": null,
            "border": null,
            "bottom": null,
            "display": null,
            "flex": "2",
            "flex_flow": null,
            "grid_area": null,
            "grid_auto_columns": null,
            "grid_auto_flow": null,
            "grid_auto_rows": null,
            "grid_column": null,
            "grid_gap": null,
            "grid_row": null,
            "grid_template_areas": null,
            "grid_template_columns": null,
            "grid_template_rows": null,
            "height": null,
            "justify_content": null,
            "justify_items": null,
            "left": null,
            "margin": null,
            "max_height": null,
            "max_width": null,
            "min_height": null,
            "min_width": null,
            "object_fit": null,
            "object_position": null,
            "order": null,
            "overflow": null,
            "overflow_x": null,
            "overflow_y": null,
            "padding": null,
            "right": null,
            "top": null,
            "visibility": null,
            "width": null
          }
        },
        "b90c4bb8e7a64fc59d9a6ae50bd7103c": {
          "model_module": "@jupyter-widgets/controls",
          "model_module_version": "1.5.0",
          "model_name": "HBoxModel",
          "state": {
            "_dom_classes": [],
            "_model_module": "@jupyter-widgets/controls",
            "_model_module_version": "1.5.0",
            "_model_name": "HBoxModel",
            "_view_count": null,
            "_view_module": "@jupyter-widgets/controls",
            "_view_module_version": "1.5.0",
            "_view_name": "HBoxView",
            "box_style": "",
            "children": [
              "IPY_MODEL_19427930d13b4301b953c1a563769514",
              "IPY_MODEL_3ff914e9a456488b868c352f0fe75c89",
              "IPY_MODEL_d2bdb62c511b4f8881d07bd902576b12"
            ],
            "layout": "IPY_MODEL_f2e85e7690ca4c77a91685b37727f39b"
          }
        },
        "c7fa2e7fb0014deea4bbf2a941fc93ac": {
          "model_module": "@jupyter-widgets/controls",
          "model_module_version": "1.5.0",
          "model_name": "ProgressStyleModel",
          "state": {
            "_model_module": "@jupyter-widgets/controls",
            "_model_module_version": "1.5.0",
            "_model_name": "ProgressStyleModel",
            "_view_count": null,
            "_view_module": "@jupyter-widgets/base",
            "_view_module_version": "1.2.0",
            "_view_name": "StyleView",
            "bar_color": null,
            "description_width": ""
          }
        },
        "d2bdb62c511b4f8881d07bd902576b12": {
          "model_module": "@jupyter-widgets/controls",
          "model_module_version": "1.5.0",
          "model_name": "HTMLModel",
          "state": {
            "_dom_classes": [],
            "_model_module": "@jupyter-widgets/controls",
            "_model_module_version": "1.5.0",
            "_model_name": "HTMLModel",
            "_view_count": null,
            "_view_module": "@jupyter-widgets/controls",
            "_view_module_version": "1.5.0",
            "_view_name": "HTMLView",
            "description": "",
            "description_tooltip": null,
            "layout": "IPY_MODEL_2b673c0c7d7a488783d272ad329415d2",
            "placeholder": "​",
            "style": "IPY_MODEL_18d9cdc68b37439f87a8c75fba6120cb",
            "value": " 2/2 [00:05&lt;00:00,  2.62s/it]"
          }
        },
        "dc2ebc799b414836a66e7d964223ad29": {
          "model_module": "@jupyter-widgets/controls",
          "model_module_version": "1.5.0",
          "model_name": "DescriptionStyleModel",
          "state": {
            "_model_module": "@jupyter-widgets/controls",
            "_model_module_version": "1.5.0",
            "_model_name": "DescriptionStyleModel",
            "_view_count": null,
            "_view_module": "@jupyter-widgets/base",
            "_view_module_version": "1.2.0",
            "_view_name": "StyleView",
            "description_width": ""
          }
        },
        "e586798536c946e0ad3f358e69cacc09": {
          "model_module": "@jupyter-widgets/controls",
          "model_module_version": "1.5.0",
          "model_name": "DescriptionStyleModel",
          "state": {
            "_model_module": "@jupyter-widgets/controls",
            "_model_module_version": "1.5.0",
            "_model_name": "DescriptionStyleModel",
            "_view_count": null,
            "_view_module": "@jupyter-widgets/base",
            "_view_module_version": "1.2.0",
            "_view_name": "StyleView",
            "description_width": ""
          }
        },
        "ea354934688848578eb393ae33e50aca": {
          "model_module": "@jupyter-widgets/controls",
          "model_module_version": "1.5.0",
          "model_name": "FloatProgressModel",
          "state": {
            "_dom_classes": [],
            "_model_module": "@jupyter-widgets/controls",
            "_model_module_version": "1.5.0",
            "_model_name": "FloatProgressModel",
            "_view_count": null,
            "_view_module": "@jupyter-widgets/controls",
            "_view_module_version": "1.5.0",
            "_view_name": "ProgressView",
            "bar_style": "",
            "description": "",
            "description_tooltip": null,
            "layout": "IPY_MODEL_9e53a99ca68047e5942f7cdf3d7be7f8",
            "max": 61,
            "min": 0,
            "orientation": "horizontal",
            "style": "IPY_MODEL_9e3554e1553d4bb0b09ebb4f6f508cdb",
            "value": 0
          }
        },
        "ef86812edff84fc98e57845bed416a9d": {
          "model_module": "@jupyter-widgets/controls",
          "model_module_version": "1.5.0",
          "model_name": "HTMLModel",
          "state": {
            "_dom_classes": [],
            "_model_module": "@jupyter-widgets/controls",
            "_model_module_version": "1.5.0",
            "_model_name": "HTMLModel",
            "_view_count": null,
            "_view_module": "@jupyter-widgets/controls",
            "_view_module_version": "1.5.0",
            "_view_name": "HTMLView",
            "description": "",
            "description_tooltip": null,
            "layout": "IPY_MODEL_481fd5ced436458999fcb1dffc8b07f2",
            "placeholder": "​",
            "style": "IPY_MODEL_e586798536c946e0ad3f358e69cacc09",
            "value": "Epoch 0:   4%"
          }
        },
        "f2e85e7690ca4c77a91685b37727f39b": {
          "model_module": "@jupyter-widgets/base",
          "model_module_version": "1.2.0",
          "model_name": "LayoutModel",
          "state": {
            "_model_module": "@jupyter-widgets/base",
            "_model_module_version": "1.2.0",
            "_model_name": "LayoutModel",
            "_view_count": null,
            "_view_module": "@jupyter-widgets/base",
            "_view_module_version": "1.2.0",
            "_view_name": "LayoutView",
            "align_content": null,
            "align_items": null,
            "align_self": null,
            "border": null,
            "bottom": null,
            "display": "inline-flex",
            "flex": null,
            "flex_flow": "row wrap",
            "grid_area": null,
            "grid_auto_columns": null,
            "grid_auto_flow": null,
            "grid_auto_rows": null,
            "grid_column": null,
            "grid_gap": null,
            "grid_row": null,
            "grid_template_areas": null,
            "grid_template_columns": null,
            "grid_template_rows": null,
            "height": null,
            "justify_content": null,
            "justify_items": null,
            "left": null,
            "margin": null,
            "max_height": null,
            "max_width": null,
            "min_height": null,
            "min_width": null,
            "object_fit": null,
            "object_position": null,
            "order": null,
            "overflow": null,
            "overflow_x": null,
            "overflow_y": null,
            "padding": null,
            "right": null,
            "top": null,
            "visibility": null,
            "width": "100%"
          }
        },
        "fa4e280f49a64eafb016b3199b631e0f": {
          "model_module": "@jupyter-widgets/controls",
          "model_module_version": "1.5.0",
          "model_name": "HTMLModel",
          "state": {
            "_dom_classes": [],
            "_model_module": "@jupyter-widgets/controls",
            "_model_module_version": "1.5.0",
            "_model_name": "HTMLModel",
            "_view_count": null,
            "_view_module": "@jupyter-widgets/controls",
            "_view_module_version": "1.5.0",
            "_view_name": "HTMLView",
            "description": "",
            "description_tooltip": null,
            "layout": "IPY_MODEL_03b0661661e7431f86be627246796926",
            "placeholder": "​",
            "style": "IPY_MODEL_7c8f802ad4654124b7c41e99a72f237f",
            "value": "Testing DataLoader 0:   0%"
          }
        }
      }
    }
  },
  "nbformat": 4,
  "nbformat_minor": 0
}
